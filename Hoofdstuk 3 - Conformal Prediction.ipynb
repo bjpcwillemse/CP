{
 "cells": [
  {
   "cell_type": "markdown",
   "metadata": {},
   "source": [
    "Intro over hoe classifiers leuk zijn, maar slechts n point prediction geven. \n",
    "\n",
    "Enter Conformal Prediction: resultaten worden vergeleken met andere resultaten, om confidence te geven"
   ]
  },
  {
   "cell_type": "code",
   "execution_count": 6,
   "metadata": {
    "collapsed": true
   },
   "outputs": [],
   "source": [
    "# Authors: Henrik Linusson\n",
    "\n",
    "import numpy as np\n",
    "import pandas as pd\n",
    "\n",
    "from sklearn.tree import DecisionTreeClassifier\n",
    "from sklearn.datasets import load_iris\n",
    "\n",
    "from nonconformist.base import ClassifierAdapter\n",
    "from nonconformist.icp import IcpClassifier\n",
    "from nonconformist.nc import ClassifierNc, MarginErrFunc\n"
   ]
  },
  {
   "cell_type": "markdown",
   "metadata": {},
   "source": [
    "Laad data in, scheid t in train, calibratie en test. \n",
    "\n",
    "Train wordt gebruikt om een non-conformity te berekenen. Dit doen we in dit voorbeeld adhv de DecisionTreeClassifier, waar een error-functie overheen wordt geknald (de MarginErrFunc).\n",
    "\n",
    "Vervolgens worden alle items in de calibratieset door het model heen gehaald, en krijgen ze een non-conformity value. \n",
    "\n",
    "Vervolgens kan een p-value worden berekend door items te ranken in een gesorteerde lijst van calibratie-scores. "
   ]
  },
  {
   "cell_type": "code",
   "execution_count": 7,
   "metadata": {
    "collapsed": true
   },
   "outputs": [],
   "source": [
    "\n",
    "# -----------------------------------------------------------------------------\n",
    "# Setup training, calibration and test indices\n",
    "# -----------------------------------------------------------------------------\n",
    "data = load_iris()\n",
    "\n",
    "idx = np.random.permutation(data.target.size)\n",
    "train = idx[:int(idx.size / 3)]\n",
    "calibrate = idx[int(idx.size / 3):int(2 * idx.size / 3)]\n",
    "test = idx[int(2 * idx.size / 3):]\n"
   ]
  },
  {
   "cell_type": "markdown",
   "metadata": {},
   "source": [
    "Hier wordt de classifier gebouwd. Note dat het model veranderen een simpele kwestie is van 1 regel aanpassen. "
   ]
  },
  {
   "cell_type": "code",
   "execution_count": 8,
   "metadata": {
    "collapsed": true
   },
   "outputs": [],
   "source": [
    "\n",
    "# -----------------------------------------------------------------------------\n",
    "# Train and calibrate\n",
    "# -----------------------------------------------------------------------------\n",
    "icp = IcpClassifier(ClassifierNc(ClassifierAdapter(DecisionTreeClassifier()),\n",
    "                                 MarginErrFunc()))\n",
    "icp.fit(data.data[train, :], data.target[train])\n",
    "icp.calibrate(data.data[calibrate, :], data.target[calibrate])\n"
   ]
  },
  {
   "cell_type": "code",
   "execution_count": 10,
   "metadata": {},
   "outputs": [
    {
     "name": "stdout",
     "output_type": "stream",
     "text": [
      "                    0                  1                 2      3\n",
      "0                  c0                 c1                c2  Truth\n",
      "1      0.500171116738    0.0536276575843   0.0313453454736    0.0\n",
      "2    0.00279744675186    0.0632853554162    0.707639302079    2.0\n",
      "3      0.801127995729    0.0595853110734   0.0745080322364    0.0\n",
      "4     0.0212877014458     0.477667201058   0.0938133454169    1.0\n",
      "5     0.0540266158851    0.0742933126436    0.482183452898    2.0\n",
      "6     0.0780873144703     0.386362151536   0.0606378029457    1.0\n",
      "7      0.830593423901    0.0769962605325   0.0291690634274    0.0\n",
      "8   0.000745215586777     0.136058648187   0.0140199395009    1.0\n",
      "9      0.171974924538    0.0311177223055   0.0877998329609    0.0\n",
      "10    0.0467043110383     0.682300627058   0.0370580341364    1.0\n",
      "11    0.0670433487996    0.0650586276769    0.536606535318    2.0\n",
      "12     0.807890907131     0.060281442278   0.0711312891783    0.0\n",
      "13    0.0743896665208    0.0880931048075     0.50821958074    2.0\n",
      "14     0.202021097548    0.0337646418262   0.0292943220998    0.0\n",
      "15   0.00513905509659     0.934864957474   0.0166010704406    1.0\n",
      "16    0.0697714407798      0.13238063953   0.0610656696448    1.0\n",
      "17     0.824205084364     0.046698482955   0.0825896887501    0.0\n",
      "18    0.0532238365106     0.270904947926   0.0879400999763    1.0\n",
      "19    0.0774378070006    0.0412394219703    0.240411026653    2.0\n",
      "20    0.0611680628678   0.00834495346876    0.405598228239    2.0\n",
      "21  0.000851392545445    0.0752418672633    0.805058580324    2.0\n",
      "22    0.0834283462403    0.0868020552812    0.152806325913    2.0\n",
      "23    0.0482991786041    0.0550998821965    0.956618570164    1.0\n",
      "24   0.00733764541657   0.00473238521706    0.279001882574    2.0\n",
      "25   0.00310785117479    0.0439219872104    0.317626136858    2.0\n",
      "26    0.0133306490392     0.415440544781   0.0659441184047    1.0\n",
      "27    0.0538206000293    0.0655487567096    0.544884469277    2.0\n",
      "28     0.014912837816    0.0273592217194    0.537377607505    2.0\n",
      "29    0.0753977876185    0.0357915665726     0.82281988418    2.0\n",
      "30    0.0879792499772    0.0875027149187    0.376122886876    2.0\n",
      "31    0.0476870636621     0.127938045954   0.0554929861568    1.0\n",
      "32     0.778192334789    0.0496715824851   0.0957890769727    0.0\n",
      "33      0.08030574355    0.0718905589242      0.1651308594    2.0\n",
      "34     0.226512966518    0.0150036674913   0.0576699562517    0.0\n",
      "35    0.0512961204229     0.504150720596   0.0956987037268    1.0\n",
      "36    0.0203631187321     0.207937386268   0.0959854498464    1.0\n",
      "37    0.0787171122903     0.253766337346   0.0412775606266    1.0\n",
      "38    0.0887535746276     0.784838646455   0.0459313680693    1.0\n",
      "39   0.00817586564979    0.0835324438401    0.955371660215    2.0\n",
      "40    0.0574060921705     0.576698240803   0.0440428774118    1.0\n",
      "41     0.748122737117    0.0873226872011   0.0747630791745    0.0\n",
      "42    0.0741252418484     0.852174919907   0.0770974144673    1.0\n",
      "43    0.0531067052568    0.0703024583574    0.274344195016    2.0\n",
      "44   0.00922721516635  0.000777758153069    0.238656440529    2.0\n",
      "45     0.964877291587    0.0754701765142  0.00912677248536    0.0\n",
      "46    0.0803004840701     0.942333478014   0.0950223352657    1.0\n",
      "47     0.079245776963     0.919838141403  0.00970092877411    1.0\n",
      "48     0.476461139373    0.0658540959723   0.0289799214168    0.0\n",
      "49    0.0491541760578    0.0264206401815     0.80935977063    2.0\n",
      "50     0.327849723207    0.0393442403564   0.0876407180497    0.0\n"
     ]
    }
   ],
   "source": [
    "\n",
    "# -----------------------------------------------------------------------------\n",
    "# Predict\n",
    "# -----------------------------------------------------------------------------\n",
    "prediction = icp.predict(data.data[test, :])\n",
    "header = np.array(['c0','c1','c2','Truth'])\n",
    "table = np.vstack([prediction.T, data.target[test]]).T\n",
    "df = pd.DataFrame(np.vstack([header, table]))\n",
    "print(df)\n",
    "\n"
   ]
  },
  {
   "cell_type": "code",
   "execution_count": 11,
   "metadata": {},
   "outputs": [
    {
     "name": "stdout",
     "output_type": "stream",
     "text": [
      "     0   1   2      3\n",
      "0   c0  c1  c2  Truth\n",
      "1    1   0   0      0\n",
      "2    0   0   1      2\n",
      "3    1   0   0      0\n",
      "4    0   1   0      1\n",
      "5    0   0   1      2\n",
      "6    0   1   0      1\n",
      "7    1   0   0      0\n",
      "8    0   1   0      1\n",
      "9    1   0   0      0\n",
      "10   0   1   0      1\n",
      "11   0   0   1      2\n",
      "12   1   0   0      0\n",
      "13   0   0   1      2\n",
      "14   1   0   0      0\n",
      "15   0   1   0      1\n",
      "16   0   1   0      1\n",
      "17   1   0   0      0\n",
      "18   0   1   0      1\n",
      "19   0   0   0      2\n",
      "20   0   0   1      2\n",
      "21   0   0   1      2\n",
      "22   0   0   1      2\n",
      "23   0   0   1      1\n",
      "24   0   0   1      2\n",
      "25   0   0   1      2\n",
      "26   0   1   0      1\n",
      "27   0   0   1      2\n",
      "28   0   0   1      2\n",
      "29   0   0   1      2\n",
      "30   0   0   1      2\n",
      "31   0   1   0      1\n",
      "32   1   0   0      0\n",
      "33   0   0   1      2\n",
      "34   1   0   0      0\n",
      "35   0   1   0      1\n",
      "36   0   1   0      1\n",
      "37   0   1   0      1\n",
      "38   0   1   0      1\n",
      "39   0   0   1      2\n",
      "40   0   1   0      1\n",
      "41   1   0   0      0\n",
      "42   0   1   0      1\n",
      "43   0   0   1      2\n",
      "44   0   0   1      2\n",
      "45   1   0   0      0\n",
      "46   0   1   0      1\n",
      "47   0   1   0      1\n",
      "48   1   0   0      0\n",
      "49   0   0   1      2\n",
      "50   1   0   0      0\n"
     ]
    }
   ],
   "source": [
    "# -----------------------------------------------------------------------------\n",
    "# Predict\n",
    "# -----------------------------------------------------------------------------\n",
    "prediction = icp.predict(data.data[test, :], significance = 0.1)\n",
    "header = np.array(['c0','c1','c2','Truth'])\n",
    "table = np.vstack([prediction.T, data.target[test]]).T\n",
    "df = pd.DataFrame(np.vstack([header, table]))\n",
    "print(df)\n"
   ]
  },
  {
   "cell_type": "code",
   "execution_count": null,
   "metadata": {
    "collapsed": true
   },
   "outputs": [],
   "source": []
  }
 ],
 "metadata": {
  "kernelspec": {
   "display_name": "Python 2",
   "language": "python",
   "name": "python2"
  },
  "language_info": {
   "codemirror_mode": {
    "name": "ipython",
    "version": 2
   },
   "file_extension": ".py",
   "mimetype": "text/x-python",
   "name": "python",
   "nbconvert_exporter": "python",
   "pygments_lexer": "ipython2",
   "version": "2.7.14"
  }
 },
 "nbformat": 4,
 "nbformat_minor": 2
}
